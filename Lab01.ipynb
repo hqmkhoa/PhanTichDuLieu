{
  "nbformat": 4,
  "nbformat_minor": 0,
  "metadata": {
    "colab": {
      "name": "Lab01.ipynb",
      "provenance": [],
      "authorship_tag": "ABX9TyO4RO0xT8xNpSKuvpHAWwk9",
      "include_colab_link": true
    },
    "kernelspec": {
      "name": "python3",
      "display_name": "Python 3"
    },
    "language_info": {
      "name": "python"
    }
  },
  "cells": [
    {
      "cell_type": "markdown",
      "metadata": {
        "id": "view-in-github",
        "colab_type": "text"
      },
      "source": [
        "<a href=\"https://colab.research.google.com/github/hqmkhoa/PhanTichDuLieu/blob/main/Lab01.ipynb\" target=\"_parent\"><img src=\"https://colab.research.google.com/assets/colab-badge.svg\" alt=\"Open In Colab\"/></a>"
      ]
    },
    {
      "cell_type": "code",
      "execution_count": 7,
      "metadata": {
        "id": "cemPK07N3WjV",
        "colab": {
          "base_uri": "https://localhost:8080/"
        },
        "outputId": "a0162409-d13d-4ffa-ae22-531ee53997d7"
      },
      "outputs": [
        {
          "output_type": "execute_result",
          "data": {
            "text/plain": [
              "0    11\n",
              "1    12\n",
              "2    13\n",
              "3    14\n",
              "dtype: int64"
            ]
          },
          "metadata": {},
          "execution_count": 7
        }
      ],
      "source": [
        "import pandas as pd\n",
        "\n",
        "arr = [11,12,13,14]\n",
        "\n",
        "result = pd.Series(arr)\n",
        "result\n"
      ]
    },
    {
      "cell_type": "code",
      "source": [
        "result2 = pd.Series(arr, index=[\"a\",\"b\",\"c\",\"d\"])\n",
        "result2"
      ],
      "metadata": {
        "colab": {
          "base_uri": "https://localhost:8080/"
        },
        "id": "eLNKytBfF_r0",
        "outputId": "d7849722-5b75-4582-c612-8412b17ce9df"
      },
      "execution_count": 8,
      "outputs": [
        {
          "output_type": "execute_result",
          "data": {
            "text/plain": [
              "a    11\n",
              "b    12\n",
              "c    13\n",
              "d    14\n",
              "dtype: int64"
            ]
          },
          "metadata": {},
          "execution_count": 8
        }
      ]
    },
    {
      "cell_type": "code",
      "source": [
        ""
      ],
      "metadata": {
        "id": "NK--JZC9Hc5P"
      },
      "execution_count": null,
      "outputs": []
    }
  ]
}